{
  "nbformat": 4,
  "nbformat_minor": 0,
  "metadata": {
    "colab": {
      "name": "Food_train.ipynb",
      "provenance": []
    },
    "kernelspec": {
      "name": "python3",
      "display_name": "Python 3"
    },
    "language_info": {
      "name": "python"
    }
  },
  "cells": [
    {
      "cell_type": "code",
      "metadata": {
        "colab": {
          "base_uri": "https://localhost:8080/"
        },
        "id": "h8gyZ_jvbwR2",
        "outputId": "43c9f86d-2ff9-4073-efc2-b79afce769a7"
      },
      "source": [
        "!pip install -q tflite-model-maker\n",
        "!pip install -q pycocotools"
      ],
      "execution_count": 1,
      "outputs": [
        {
          "output_type": "stream",
          "name": "stdout",
          "text": [
            "\u001b[K     |████████████████████████████████| 591 kB 22.3 MB/s \n",
            "\u001b[K     |████████████████████████████████| 840 kB 43.5 MB/s \n",
            "\u001b[K     |████████████████████████████████| 1.1 MB 41.5 MB/s \n",
            "\u001b[K     |████████████████████████████████| 120 kB 40.8 MB/s \n",
            "\u001b[K     |████████████████████████████████| 87 kB 5.6 MB/s \n",
            "\u001b[K     |████████████████████████████████| 596 kB 35.7 MB/s \n",
            "\u001b[K     |████████████████████████████████| 64 kB 2.7 MB/s \n",
            "\u001b[K     |████████████████████████████████| 6.3 MB 53.1 MB/s \n",
            "\u001b[K     |████████████████████████████████| 1.2 MB 51.8 MB/s \n",
            "\u001b[K     |████████████████████████████████| 1.1 MB 52.3 MB/s \n",
            "\u001b[K     |████████████████████████████████| 213 kB 70.3 MB/s \n",
            "\u001b[K     |████████████████████████████████| 103 kB 66.0 MB/s \n",
            "\u001b[K     |████████████████████████████████| 352 kB 53.5 MB/s \n",
            "\u001b[K     |████████████████████████████████| 47.6 MB 84 kB/s \n",
            "\u001b[K     |████████████████████████████████| 99 kB 2.7 MB/s \n",
            "\u001b[K     |████████████████████████████████| 208 kB 66.3 MB/s \n",
            "\u001b[?25h  Building wheel for fire (setup.py) ... \u001b[?25l\u001b[?25hdone\n",
            "  Building wheel for py-cpuinfo (setup.py) ... \u001b[?25l\u001b[?25hdone\n"
          ]
        }
      ]
    },
    {
      "cell_type": "code",
      "metadata": {
        "id": "8u5wK_pJbJFs"
      },
      "source": [
        "import numpy as np\n",
        "import os\n",
        "\n",
        "from tflite_model_maker.config import ExportFormat\n",
        "from tflite_model_maker import model_spec\n",
        "from tflite_model_maker import object_detector\n",
        "\n",
        "import tensorflow as tf\n",
        "assert tf.__version__.startswith('2')\n",
        "\n",
        "tf.get_logger().setLevel('ERROR')\n",
        "from absl import logging\n",
        "logging.set_verbosity(logging.ERROR)"
      ],
      "execution_count": 2,
      "outputs": []
    },
    {
      "cell_type": "code",
      "metadata": {
        "id": "qysSRYaPbpCB"
      },
      "source": [
        "spec = model_spec.get('efficientdet_lite2')"
      ],
      "execution_count": 3,
      "outputs": []
    },
    {
      "cell_type": "code",
      "metadata": {
        "id": "YFM9YvSRbpG_"
      },
      "source": [
        "train_data, validation_data, test_data = object_detector.DataLoader.from_csv('gs://cloud-ml-data/img/openimage/csv/salads_ml_use.csv')"
      ],
      "execution_count": 4,
      "outputs": []
    },
    {
      "cell_type": "code",
      "metadata": {
        "colab": {
          "base_uri": "https://localhost:8080/"
        },
        "id": "1q8pvtrRbpLu",
        "outputId": "371560bb-da76-4aab-a8c2-23c619188a06"
      },
      "source": [
        "salad = object_detector.create(train_data, model_spec=spec, batch_size=8, train_whole_model=True, validation_data=validation_data)"
      ],
      "execution_count": 5,
      "outputs": [
        {
          "output_type": "stream",
          "name": "stdout",
          "text": [
            "Epoch 1/50\n",
            "21/21 [==============================] - 322s 13s/step - det_loss: 1.7437 - cls_loss: 1.1315 - box_loss: 0.0122 - reg_l2_loss: 0.0764 - loss: 1.8201 - learning_rate: 0.0090 - gradient_norm: 0.7233 - val_det_loss: 1.6412 - val_cls_loss: 1.0859 - val_box_loss: 0.0111 - val_reg_l2_loss: 0.0764 - val_loss: 1.7176\n",
            "Epoch 2/50\n",
            "21/21 [==============================] - 262s 12s/step - det_loss: 1.5625 - cls_loss: 1.0565 - box_loss: 0.0101 - reg_l2_loss: 0.0764 - loss: 1.6389 - learning_rate: 0.0100 - gradient_norm: 1.1360 - val_det_loss: 1.4363 - val_cls_loss: 0.9224 - val_box_loss: 0.0103 - val_reg_l2_loss: 0.0764 - val_loss: 1.5127\n",
            "Epoch 3/50\n",
            "21/21 [==============================] - 261s 12s/step - det_loss: 1.3346 - cls_loss: 0.8992 - box_loss: 0.0087 - reg_l2_loss: 0.0764 - loss: 1.4111 - learning_rate: 0.0099 - gradient_norm: 2.0008 - val_det_loss: 1.2613 - val_cls_loss: 0.7786 - val_box_loss: 0.0097 - val_reg_l2_loss: 0.0764 - val_loss: 1.3378\n",
            "Epoch 4/50\n",
            "21/21 [==============================] - 263s 13s/step - det_loss: 1.1653 - cls_loss: 0.7761 - box_loss: 0.0078 - reg_l2_loss: 0.0764 - loss: 1.2417 - learning_rate: 0.0099 - gradient_norm: 2.2432 - val_det_loss: 1.1615 - val_cls_loss: 0.7110 - val_box_loss: 0.0090 - val_reg_l2_loss: 0.0765 - val_loss: 1.2379\n",
            "Epoch 5/50\n",
            "21/21 [==============================] - 281s 14s/step - det_loss: 1.0530 - cls_loss: 0.7098 - box_loss: 0.0069 - reg_l2_loss: 0.0765 - loss: 1.1295 - learning_rate: 0.0098 - gradient_norm: 2.5637 - val_det_loss: 1.1033 - val_cls_loss: 0.6556 - val_box_loss: 0.0090 - val_reg_l2_loss: 0.0765 - val_loss: 1.1798\n",
            "Epoch 6/50\n",
            "21/21 [==============================] - 262s 13s/step - det_loss: 1.0221 - cls_loss: 0.6755 - box_loss: 0.0069 - reg_l2_loss: 0.0765 - loss: 1.0986 - learning_rate: 0.0097 - gradient_norm: 2.2543 - val_det_loss: 1.0311 - val_cls_loss: 0.6221 - val_box_loss: 0.0082 - val_reg_l2_loss: 0.0765 - val_loss: 1.1076\n",
            "Epoch 7/50\n",
            "21/21 [==============================] - 275s 13s/step - det_loss: 0.9264 - cls_loss: 0.6282 - box_loss: 0.0060 - reg_l2_loss: 0.0765 - loss: 1.0029 - learning_rate: 0.0096 - gradient_norm: 2.2107 - val_det_loss: 0.9715 - val_cls_loss: 0.6076 - val_box_loss: 0.0073 - val_reg_l2_loss: 0.0765 - val_loss: 1.0480\n",
            "Epoch 8/50\n",
            "21/21 [==============================] - 264s 13s/step - det_loss: 0.8673 - cls_loss: 0.5848 - box_loss: 0.0057 - reg_l2_loss: 0.0765 - loss: 0.9438 - learning_rate: 0.0094 - gradient_norm: 2.1890 - val_det_loss: 0.9645 - val_cls_loss: 0.6048 - val_box_loss: 0.0072 - val_reg_l2_loss: 0.0765 - val_loss: 1.0410\n",
            "Epoch 9/50\n",
            "21/21 [==============================] - 262s 12s/step - det_loss: 0.8383 - cls_loss: 0.5684 - box_loss: 0.0054 - reg_l2_loss: 0.0765 - loss: 0.9148 - learning_rate: 0.0093 - gradient_norm: 2.2742 - val_det_loss: 0.9609 - val_cls_loss: 0.6008 - val_box_loss: 0.0072 - val_reg_l2_loss: 0.0765 - val_loss: 1.0374\n",
            "Epoch 10/50\n",
            "21/21 [==============================] - 277s 13s/step - det_loss: 0.8319 - cls_loss: 0.5603 - box_loss: 0.0054 - reg_l2_loss: 0.0765 - loss: 0.9084 - learning_rate: 0.0091 - gradient_norm: 2.3863 - val_det_loss: 0.9385 - val_cls_loss: 0.5894 - val_box_loss: 0.0070 - val_reg_l2_loss: 0.0765 - val_loss: 1.0150\n",
            "Epoch 11/50\n",
            "21/21 [==============================] - 265s 13s/step - det_loss: 0.8039 - cls_loss: 0.5340 - box_loss: 0.0054 - reg_l2_loss: 0.0765 - loss: 0.8805 - learning_rate: 0.0089 - gradient_norm: 2.2902 - val_det_loss: 0.9868 - val_cls_loss: 0.6229 - val_box_loss: 0.0073 - val_reg_l2_loss: 0.0766 - val_loss: 1.0634\n",
            "Epoch 12/50\n",
            "21/21 [==============================] - 269s 13s/step - det_loss: 0.8000 - cls_loss: 0.5407 - box_loss: 0.0052 - reg_l2_loss: 0.0766 - loss: 0.8765 - learning_rate: 0.0087 - gradient_norm: 2.3352 - val_det_loss: 0.9152 - val_cls_loss: 0.5682 - val_box_loss: 0.0069 - val_reg_l2_loss: 0.0766 - val_loss: 0.9917\n",
            "Epoch 13/50\n",
            "21/21 [==============================] - 261s 12s/step - det_loss: 0.7452 - cls_loss: 0.5025 - box_loss: 0.0049 - reg_l2_loss: 0.0766 - loss: 0.8218 - learning_rate: 0.0085 - gradient_norm: 2.2403 - val_det_loss: 0.9245 - val_cls_loss: 0.5826 - val_box_loss: 0.0068 - val_reg_l2_loss: 0.0766 - val_loss: 1.0011\n",
            "Epoch 14/50\n",
            "21/21 [==============================] - 278s 13s/step - det_loss: 0.7573 - cls_loss: 0.5055 - box_loss: 0.0050 - reg_l2_loss: 0.0766 - loss: 0.8338 - learning_rate: 0.0082 - gradient_norm: 2.4720 - val_det_loss: 0.9192 - val_cls_loss: 0.5821 - val_box_loss: 0.0067 - val_reg_l2_loss: 0.0766 - val_loss: 0.9958\n",
            "Epoch 15/50\n",
            "21/21 [==============================] - 271s 13s/step - det_loss: 0.7165 - cls_loss: 0.4747 - box_loss: 0.0048 - reg_l2_loss: 0.0766 - loss: 0.7931 - learning_rate: 0.0080 - gradient_norm: 2.4578 - val_det_loss: 0.9428 - val_cls_loss: 0.6025 - val_box_loss: 0.0068 - val_reg_l2_loss: 0.0766 - val_loss: 1.0194\n",
            "Epoch 16/50\n",
            "21/21 [==============================] - 269s 13s/step - det_loss: 0.7075 - cls_loss: 0.4808 - box_loss: 0.0045 - reg_l2_loss: 0.0766 - loss: 0.7841 - learning_rate: 0.0077 - gradient_norm: 2.5795 - val_det_loss: 0.9211 - val_cls_loss: 0.5882 - val_box_loss: 0.0067 - val_reg_l2_loss: 0.0766 - val_loss: 0.9977\n",
            "Epoch 17/50\n",
            "21/21 [==============================] - 265s 13s/step - det_loss: 0.6976 - cls_loss: 0.4694 - box_loss: 0.0046 - reg_l2_loss: 0.0766 - loss: 0.7743 - learning_rate: 0.0075 - gradient_norm: 2.4598 - val_det_loss: 0.8879 - val_cls_loss: 0.5593 - val_box_loss: 0.0066 - val_reg_l2_loss: 0.0766 - val_loss: 0.9645\n",
            "Epoch 18/50\n",
            "21/21 [==============================] - 263s 13s/step - det_loss: 0.6802 - cls_loss: 0.4579 - box_loss: 0.0044 - reg_l2_loss: 0.0766 - loss: 0.7568 - learning_rate: 0.0072 - gradient_norm: 2.5649 - val_det_loss: 0.8956 - val_cls_loss: 0.5800 - val_box_loss: 0.0063 - val_reg_l2_loss: 0.0766 - val_loss: 0.9723\n",
            "Epoch 19/50\n",
            "21/21 [==============================] - 266s 13s/step - det_loss: 0.6607 - cls_loss: 0.4403 - box_loss: 0.0044 - reg_l2_loss: 0.0766 - loss: 0.7373 - learning_rate: 0.0069 - gradient_norm: 2.5371 - val_det_loss: 0.9872 - val_cls_loss: 0.6317 - val_box_loss: 0.0071 - val_reg_l2_loss: 0.0766 - val_loss: 1.0638\n",
            "Epoch 20/50\n",
            "21/21 [==============================] - 275s 13s/step - det_loss: 0.6325 - cls_loss: 0.4326 - box_loss: 0.0040 - reg_l2_loss: 0.0766 - loss: 0.7092 - learning_rate: 0.0066 - gradient_norm: 2.4713 - val_det_loss: 0.9293 - val_cls_loss: 0.5957 - val_box_loss: 0.0067 - val_reg_l2_loss: 0.0766 - val_loss: 1.0060\n",
            "Epoch 21/50\n",
            "21/21 [==============================] - 266s 13s/step - det_loss: 0.6393 - cls_loss: 0.4254 - box_loss: 0.0043 - reg_l2_loss: 0.0766 - loss: 0.7159 - learning_rate: 0.0063 - gradient_norm: 2.7052 - val_det_loss: 0.9109 - val_cls_loss: 0.5815 - val_box_loss: 0.0066 - val_reg_l2_loss: 0.0766 - val_loss: 0.9876\n",
            "Epoch 22/50\n",
            "21/21 [==============================] - 265s 13s/step - det_loss: 0.6362 - cls_loss: 0.4323 - box_loss: 0.0041 - reg_l2_loss: 0.0766 - loss: 0.7129 - learning_rate: 0.0060 - gradient_norm: 2.6743 - val_det_loss: 0.8703 - val_cls_loss: 0.5643 - val_box_loss: 0.0061 - val_reg_l2_loss: 0.0767 - val_loss: 0.9469\n",
            "Epoch 23/50\n",
            "21/21 [==============================] - 264s 12s/step - det_loss: 0.6440 - cls_loss: 0.4325 - box_loss: 0.0042 - reg_l2_loss: 0.0767 - loss: 0.7206 - learning_rate: 0.0056 - gradient_norm: 2.7034 - val_det_loss: 0.8570 - val_cls_loss: 0.5531 - val_box_loss: 0.0061 - val_reg_l2_loss: 0.0767 - val_loss: 0.9337\n",
            "Epoch 24/50\n",
            "21/21 [==============================] - 260s 12s/step - det_loss: 0.6108 - cls_loss: 0.4162 - box_loss: 0.0039 - reg_l2_loss: 0.0767 - loss: 0.6874 - learning_rate: 0.0053 - gradient_norm: 2.6323 - val_det_loss: 0.9090 - val_cls_loss: 0.5889 - val_box_loss: 0.0064 - val_reg_l2_loss: 0.0767 - val_loss: 0.9857\n",
            "Epoch 25/50\n",
            "21/21 [==============================] - 277s 13s/step - det_loss: 0.6121 - cls_loss: 0.4214 - box_loss: 0.0038 - reg_l2_loss: 0.0767 - loss: 0.6887 - learning_rate: 0.0050 - gradient_norm: 2.7216 - val_det_loss: 0.8831 - val_cls_loss: 0.5626 - val_box_loss: 0.0064 - val_reg_l2_loss: 0.0767 - val_loss: 0.9597\n",
            "Epoch 26/50\n",
            "21/21 [==============================] - 267s 13s/step - det_loss: 0.6252 - cls_loss: 0.4197 - box_loss: 0.0041 - reg_l2_loss: 0.0767 - loss: 0.7019 - learning_rate: 0.0047 - gradient_norm: 2.7018 - val_det_loss: 0.8886 - val_cls_loss: 0.5765 - val_box_loss: 0.0062 - val_reg_l2_loss: 0.0767 - val_loss: 0.9653\n",
            "Epoch 27/50\n",
            "21/21 [==============================] - 265s 13s/step - det_loss: 0.5827 - cls_loss: 0.3932 - box_loss: 0.0038 - reg_l2_loss: 0.0767 - loss: 0.6594 - learning_rate: 0.0044 - gradient_norm: 2.3498 - val_det_loss: 0.8482 - val_cls_loss: 0.5367 - val_box_loss: 0.0062 - val_reg_l2_loss: 0.0767 - val_loss: 0.9248\n",
            "Epoch 28/50\n",
            "21/21 [==============================] - 278s 13s/step - det_loss: 0.5956 - cls_loss: 0.4008 - box_loss: 0.0039 - reg_l2_loss: 0.0767 - loss: 0.6723 - learning_rate: 0.0040 - gradient_norm: 2.7140 - val_det_loss: 0.8776 - val_cls_loss: 0.5639 - val_box_loss: 0.0063 - val_reg_l2_loss: 0.0767 - val_loss: 0.9543\n",
            "Epoch 29/50\n",
            "21/21 [==============================] - 284s 14s/step - det_loss: 0.5950 - cls_loss: 0.4012 - box_loss: 0.0039 - reg_l2_loss: 0.0767 - loss: 0.6717 - learning_rate: 0.0037 - gradient_norm: 2.7082 - val_det_loss: 0.8825 - val_cls_loss: 0.5692 - val_box_loss: 0.0063 - val_reg_l2_loss: 0.0767 - val_loss: 0.9591\n",
            "Epoch 30/50\n",
            "21/21 [==============================] - 298s 14s/step - det_loss: 0.5852 - cls_loss: 0.3930 - box_loss: 0.0038 - reg_l2_loss: 0.0767 - loss: 0.6619 - learning_rate: 0.0034 - gradient_norm: 2.7377 - val_det_loss: 0.8546 - val_cls_loss: 0.5496 - val_box_loss: 0.0061 - val_reg_l2_loss: 0.0767 - val_loss: 0.9312\n",
            "Epoch 31/50\n",
            "21/21 [==============================] - 269s 13s/step - det_loss: 0.5626 - cls_loss: 0.3829 - box_loss: 0.0036 - reg_l2_loss: 0.0767 - loss: 0.6393 - learning_rate: 0.0031 - gradient_norm: 2.6404 - val_det_loss: 0.8628 - val_cls_loss: 0.5541 - val_box_loss: 0.0062 - val_reg_l2_loss: 0.0767 - val_loss: 0.9395\n",
            "Epoch 32/50\n",
            "21/21 [==============================] - 262s 13s/step - det_loss: 0.5571 - cls_loss: 0.3720 - box_loss: 0.0037 - reg_l2_loss: 0.0767 - loss: 0.6338 - learning_rate: 0.0028 - gradient_norm: 2.6523 - val_det_loss: 0.8581 - val_cls_loss: 0.5552 - val_box_loss: 0.0061 - val_reg_l2_loss: 0.0767 - val_loss: 0.9348\n",
            "Epoch 33/50\n",
            "21/21 [==============================] - 261s 12s/step - det_loss: 0.5402 - cls_loss: 0.3671 - box_loss: 0.0035 - reg_l2_loss: 0.0767 - loss: 0.6169 - learning_rate: 0.0025 - gradient_norm: 2.7958 - val_det_loss: 0.8512 - val_cls_loss: 0.5500 - val_box_loss: 0.0060 - val_reg_l2_loss: 0.0767 - val_loss: 0.9279\n",
            "Epoch 34/50\n",
            "21/21 [==============================] - 279s 13s/step - det_loss: 0.5404 - cls_loss: 0.3694 - box_loss: 0.0034 - reg_l2_loss: 0.0767 - loss: 0.6171 - learning_rate: 0.0023 - gradient_norm: 2.5200 - val_det_loss: 0.8533 - val_cls_loss: 0.5499 - val_box_loss: 0.0061 - val_reg_l2_loss: 0.0767 - val_loss: 0.9299\n",
            "Epoch 35/50\n",
            "21/21 [==============================] - 275s 13s/step - det_loss: 0.5494 - cls_loss: 0.3773 - box_loss: 0.0034 - reg_l2_loss: 0.0767 - loss: 0.6261 - learning_rate: 0.0020 - gradient_norm: 2.6267 - val_det_loss: 0.8457 - val_cls_loss: 0.5430 - val_box_loss: 0.0061 - val_reg_l2_loss: 0.0767 - val_loss: 0.9224\n",
            "Epoch 36/50\n",
            "21/21 [==============================] - 269s 13s/step - det_loss: 0.5543 - cls_loss: 0.3802 - box_loss: 0.0035 - reg_l2_loss: 0.0767 - loss: 0.6310 - learning_rate: 0.0018 - gradient_norm: 3.1279 - val_det_loss: 0.8588 - val_cls_loss: 0.5513 - val_box_loss: 0.0062 - val_reg_l2_loss: 0.0767 - val_loss: 0.9355\n",
            "Epoch 37/50\n",
            "21/21 [==============================] - 261s 12s/step - det_loss: 0.5567 - cls_loss: 0.3724 - box_loss: 0.0037 - reg_l2_loss: 0.0767 - loss: 0.6334 - learning_rate: 0.0015 - gradient_norm: 2.7309 - val_det_loss: 0.8661 - val_cls_loss: 0.5564 - val_box_loss: 0.0062 - val_reg_l2_loss: 0.0767 - val_loss: 0.9428\n",
            "Epoch 38/50\n",
            "21/21 [==============================] - 280s 13s/step - det_loss: 0.5369 - cls_loss: 0.3629 - box_loss: 0.0035 - reg_l2_loss: 0.0767 - loss: 0.6136 - learning_rate: 0.0013 - gradient_norm: 2.4891 - val_det_loss: 0.8521 - val_cls_loss: 0.5483 - val_box_loss: 0.0061 - val_reg_l2_loss: 0.0767 - val_loss: 0.9287\n",
            "Epoch 39/50\n",
            "21/21 [==============================] - 269s 13s/step - det_loss: 0.5550 - cls_loss: 0.3719 - box_loss: 0.0037 - reg_l2_loss: 0.0767 - loss: 0.6317 - learning_rate: 0.0011 - gradient_norm: 2.8421 - val_det_loss: 0.8677 - val_cls_loss: 0.5597 - val_box_loss: 0.0062 - val_reg_l2_loss: 0.0767 - val_loss: 0.9443\n",
            "Epoch 40/50\n",
            "21/21 [==============================] - 275s 13s/step - det_loss: 0.5424 - cls_loss: 0.3600 - box_loss: 0.0036 - reg_l2_loss: 0.0767 - loss: 0.6191 - learning_rate: 9.0029e-04 - gradient_norm: 2.8329 - val_det_loss: 0.8693 - val_cls_loss: 0.5576 - val_box_loss: 0.0062 - val_reg_l2_loss: 0.0767 - val_loss: 0.9459\n",
            "Epoch 41/50\n",
            "21/21 [==============================] - 265s 13s/step - det_loss: 0.5393 - cls_loss: 0.3673 - box_loss: 0.0034 - reg_l2_loss: 0.0767 - loss: 0.6160 - learning_rate: 7.2543e-04 - gradient_norm: 2.8792 - val_det_loss: 0.8623 - val_cls_loss: 0.5533 - val_box_loss: 0.0062 - val_reg_l2_loss: 0.0767 - val_loss: 0.9390\n",
            "Epoch 42/50\n",
            "21/21 [==============================] - 281s 13s/step - det_loss: 0.5441 - cls_loss: 0.3703 - box_loss: 0.0035 - reg_l2_loss: 0.0767 - loss: 0.6208 - learning_rate: 5.6814e-04 - gradient_norm: 2.8178 - val_det_loss: 0.8577 - val_cls_loss: 0.5528 - val_box_loss: 0.0061 - val_reg_l2_loss: 0.0767 - val_loss: 0.9343\n",
            "Epoch 43/50\n",
            "21/21 [==============================] - 265s 13s/step - det_loss: 0.5576 - cls_loss: 0.3739 - box_loss: 0.0037 - reg_l2_loss: 0.0767 - loss: 0.6343 - learning_rate: 4.2906e-04 - gradient_norm: 2.8132 - val_det_loss: 0.8546 - val_cls_loss: 0.5511 - val_box_loss: 0.0061 - val_reg_l2_loss: 0.0767 - val_loss: 0.9313\n",
            "Epoch 44/50\n",
            "21/21 [==============================] - 265s 13s/step - det_loss: 0.5224 - cls_loss: 0.3519 - box_loss: 0.0034 - reg_l2_loss: 0.0767 - loss: 0.5991 - learning_rate: 3.0876e-04 - gradient_norm: 2.7027 - val_det_loss: 0.8465 - val_cls_loss: 0.5451 - val_box_loss: 0.0060 - val_reg_l2_loss: 0.0767 - val_loss: 0.9231\n",
            "Epoch 45/50\n",
            "21/21 [==============================] - 275s 13s/step - det_loss: 0.5430 - cls_loss: 0.3713 - box_loss: 0.0034 - reg_l2_loss: 0.0767 - loss: 0.6197 - learning_rate: 2.0774e-04 - gradient_norm: 2.8132 - val_det_loss: 0.8442 - val_cls_loss: 0.5439 - val_box_loss: 0.0060 - val_reg_l2_loss: 0.0767 - val_loss: 0.9209\n",
            "Epoch 46/50\n",
            "21/21 [==============================] - 282s 14s/step - det_loss: 0.5516 - cls_loss: 0.3697 - box_loss: 0.0036 - reg_l2_loss: 0.0767 - loss: 0.6283 - learning_rate: 1.2641e-04 - gradient_norm: 2.6574 - val_det_loss: 0.8493 - val_cls_loss: 0.5485 - val_box_loss: 0.0060 - val_reg_l2_loss: 0.0767 - val_loss: 0.9260\n",
            "Epoch 47/50\n",
            "21/21 [==============================] - 264s 13s/step - det_loss: 0.5496 - cls_loss: 0.3648 - box_loss: 0.0037 - reg_l2_loss: 0.0767 - loss: 0.6262 - learning_rate: 6.5107e-05 - gradient_norm: 2.5121 - val_det_loss: 0.8510 - val_cls_loss: 0.5497 - val_box_loss: 0.0060 - val_reg_l2_loss: 0.0767 - val_loss: 0.9277\n",
            "Epoch 48/50\n",
            "21/21 [==============================] - 270s 13s/step - det_loss: 0.5394 - cls_loss: 0.3583 - box_loss: 0.0036 - reg_l2_loss: 0.0767 - loss: 0.6161 - learning_rate: 2.4083e-05 - gradient_norm: 2.5842 - val_det_loss: 0.8514 - val_cls_loss: 0.5495 - val_box_loss: 0.0060 - val_reg_l2_loss: 0.0767 - val_loss: 0.9281\n",
            "Epoch 49/50\n",
            "21/21 [==============================] - 266s 13s/step - det_loss: 0.5320 - cls_loss: 0.3634 - box_loss: 0.0034 - reg_l2_loss: 0.0767 - loss: 0.6086 - learning_rate: 3.5074e-06 - gradient_norm: 2.6800 - val_det_loss: 0.8523 - val_cls_loss: 0.5504 - val_box_loss: 0.0060 - val_reg_l2_loss: 0.0767 - val_loss: 0.9289\n",
            "Epoch 50/50\n",
            "21/21 [==============================] - 289s 14s/step - det_loss: 0.5252 - cls_loss: 0.3530 - box_loss: 0.0034 - reg_l2_loss: 0.0767 - loss: 0.6019 - learning_rate: 3.4629e-06 - gradient_norm: 2.4586 - val_det_loss: 0.8533 - val_cls_loss: 0.5508 - val_box_loss: 0.0060 - val_reg_l2_loss: 0.0767 - val_loss: 0.9300\n"
          ]
        }
      ]
    },
    {
      "cell_type": "code",
      "metadata": {
        "id": "OEmfbJtlbpOg",
        "colab": {
          "base_uri": "https://localhost:8080/"
        },
        "outputId": "94dba5b7-acc1-4f5e-a42f-5347a220ec6b"
      },
      "source": [
        "salad.evaluate(test_data)"
      ],
      "execution_count": 6,
      "outputs": [
        {
          "output_type": "stream",
          "name": "stdout",
          "text": [
            "\r1/1 [==============================] - 17s 17s/step\n",
            "\n"
          ]
        },
        {
          "output_type": "execute_result",
          "data": {
            "text/plain": [
              "{'AP': 0.21614908,\n",
              " 'AP50': 0.37852782,\n",
              " 'AP75': 0.22697295,\n",
              " 'AP_/Baked Goods': 0.028013553,\n",
              " 'AP_/Cheese': 0.20807835,\n",
              " 'AP_/Salad': 0.5782274,\n",
              " 'AP_/Seafood': 0.003809709,\n",
              " 'AP_/Tomato': 0.2626164,\n",
              " 'APl': 0.21489076,\n",
              " 'APm': 0.36028495,\n",
              " 'APs': -1.0,\n",
              " 'ARl': 0.38433838,\n",
              " 'ARm': 0.48333332,\n",
              " 'ARmax1': 0.15255904,\n",
              " 'ARmax10': 0.328789,\n",
              " 'ARmax100': 0.38653854,\n",
              " 'ARs': -1.0}"
            ]
          },
          "metadata": {},
          "execution_count": 6
        }
      ]
    },
    {
      "cell_type": "code",
      "metadata": {
        "id": "oTMKv0plbpQ-"
      },
      "source": [
        "salad.export(export_dir='.')"
      ],
      "execution_count": 7,
      "outputs": []
    },
    {
      "cell_type": "code",
      "metadata": {
        "id": "eoOiusDLbvG_"
      },
      "source": [
        ""
      ],
      "execution_count": null,
      "outputs": []
    }
  ]
}